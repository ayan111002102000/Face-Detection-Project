{
 "cells": [
  {
   "cell_type": "code",
   "execution_count": 1,
   "metadata": {},
   "outputs": [],
   "source": [
    "import cv2\n",
    "import numpy as np\n",
    "import matplotlib.pyplot as plt\n",
    "import pandas as pd"
   ]
  },
  {
   "cell_type": "code",
   "execution_count": 2,
   "metadata": {},
   "outputs": [],
   "source": [
    "# load the haarcascades of smile, eye and smile\n",
    "faces_cascade = cv2.CascadeClassifier('haarcascade_frontalface_default.xml')\n",
    "eyes_cascade = cv2.CascadeClassifier('haarcascade_eye.xml')\n",
    "smiles_cascade = cv2.CascadeClassifier('haarcascade_smile.xml')"
   ]
  },
  {
   "cell_type": "code",
   "execution_count": 3,
   "metadata": {},
   "outputs": [],
   "source": [
    "text1 = 'face'\n",
    "text2 = 'eye'\n",
    "text3 = 'smile'\n",
    "font = cv2.FONT_HERSHEY_COMPLEX\n",
    "font_scale1 = 0.9\n",
    "font_scale2 = 0.7\n",
    "color1 = (255, 0, 0)\n",
    "color2 = (0, 255, 0)\n",
    "color3 = (0, 0, 255)\n",
    "thickness = 2"
   ]
  },
  {
   "cell_type": "code",
   "execution_count": 4,
   "metadata": {},
   "outputs": [],
   "source": [
    "def detection(frame, gray):\n",
    "    face = faces_cascade.detectMultiScale(gray, 1.3, 10)\n",
    "    for (x, y, w, h) in face:\n",
    "        origin1 = (x, y)\n",
    "        cv2.rectangle(frame, (x, y), (x+w, y+h), (255, 0, 0), 4)\n",
    "        cv2.putText(frame, text1, origin1, font, font_scale1, color1, thickness)\n",
    "        roi_frame = frame[y:y+h, x:x+w]\n",
    "        roi_gray = gray[y:y+h, x:x+w]\n",
    "        eye = eyes_cascade.detectMultiScale(roi_gray, 1.1, 15)\n",
    "        for (ex, ey, ew, eh) in eye:\n",
    "            cv2.rectangle(roi_frame, (ex, ey), (ex+ew, ey+eh), (0, 255, 0), 2)\n",
    "            origin2 = (ex, ey)\n",
    "            cv2.putText(roi_frame, text2, origin2, font, font_scale2, color2, thickness)\n",
    "        smile = smiles_cascade.detectMultiScale(roi_gray, 1.7, 23)\n",
    "        for (sx, sy, sw, sh) in smile:\n",
    "            cv2.rectangle(roi_frame, (sx, sy), (sx+sw, sy+sh), (0, 0, 255), 2)\n",
    "            origin3 = (sx, sy)\n",
    "            cv2.putText(roi_frame, text3, origin3, font, font_scale2, color3, thickness)\n",
    "    return frame    "
   ]
  },
  {
   "cell_type": "code",
   "execution_count": 5,
   "metadata": {},
   "outputs": [],
   "source": [
    "video_capture = cv2.VideoCapture(0)\n",
    "while True:\n",
    "    _, frame = video_capture.read()\n",
    "    gray = cv2.cvtColor(frame, cv2.COLOR_RGB2GRAY)\n",
    "   \n",
    "    canvas = detection(frame, gray)\n",
    "    cv2.imshow('video', canvas)\n",
    "    if cv2.waitKey(1) & 0xFF == ord('q'):\n",
    "        break"
   ]
  },
  {
   "cell_type": "code",
   "execution_count": 6,
   "metadata": {},
   "outputs": [],
   "source": [
    "video_capture.release()\n",
    "cv2.destroyAllWindows()"
   ]
  },
  {
   "cell_type": "code",
   "execution_count": null,
   "metadata": {},
   "outputs": [],
   "source": []
  }
 ],
 "metadata": {
  "kernelspec": {
   "display_name": "Python 3",
   "language": "python",
   "name": "python3"
  },
  "language_info": {
   "codemirror_mode": {
    "name": "ipython",
    "version": 3
   },
   "file_extension": ".py",
   "mimetype": "text/x-python",
   "name": "python",
   "nbconvert_exporter": "python",
   "pygments_lexer": "ipython3",
   "version": "3.7.6"
  }
 },
 "nbformat": 4,
 "nbformat_minor": 4
}
